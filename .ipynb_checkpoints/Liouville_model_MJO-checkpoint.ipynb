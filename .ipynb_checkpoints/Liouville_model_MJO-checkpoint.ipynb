{
 "cells": [
  {
   "cell_type": "code",
   "execution_count": 1,
   "id": "852ee1ff-4c88-422c-848d-d3a1059e1856",
   "metadata": {},
   "outputs": [],
   "source": [
    "## Example of subseasonal forecast of MJO with Markov chain \n",
    "\n",
    "import numpy as np\n",
    "from matplotlib import pyplot as plt\n",
    "import scipy.io as sio\n",
    "import datetime\n",
    "import warnings\n",
    "from scipy.linalg import logm, expm\n",
    "from scipy.interpolate import griddata"
   ]
  },
  {
   "cell_type": "code",
   "execution_count": 2,
   "id": "0955faba-4921-487f-bb66-29f1580612a2",
   "metadata": {},
   "outputs": [],
   "source": [
    "# load MJO data\n",
    "rmm2=[float(l.split()[4]) for l in open('OMI_index.txt')]\n",
    "rmm2=np.array(rmm2)\n",
    "rmm2=-rmm2\n",
    "rmm1=[float(l.split()[5]) for l in open('OMI_index.txt')]\n",
    "rmm1=np.array(rmm1)"
   ]
  },
  {
   "cell_type": "code",
   "execution_count": 7,
   "id": "e71def66-1f4e-48dd-a68d-10d6b7e4f1c4",
   "metadata": {},
   "outputs": [],
   "source": [
    "# develop Linear Inverse Model for forecast \n",
    "# there are two options to find the dynamical operator\n",
    "# (1) using a single lag e.g., x(t+1) = G_1 x(t)+\\epsilon or G_1 = [x(t+1)x(t)^T][x(t)x(t)^T]^(-1) \n",
    "# (2) using multiple lag e.g., G_ave  = exp([ln(G_1/1)+ln(G_2/2)+ln(G_3/3)...+ln(G_n/n)]/n)\n",
    "# here we show you the second one with n = 20\n",
    "# test \n",
    "total_length = np.size(rmm1)\n",
    "n            = 20\n",
    "G_record     = np.zeros((2,2,n))\n",
    "for lag in range(1,n+1):\n",
    "    x_0                 = np.squeeze([rmm1[:total_length-lag],rmm2[:total_length-lag]])\n",
    "    x_tau               = np.squeeze([rmm1[lag:],rmm2[lag:]])\n",
    "    reg                 = 1e1\n",
    "    G                   = x_tau.dot(x_0.T).dot(np.linalg.inv(x_0.dot(x_0.T)))\n",
    "    G_record[:,:,lag-1] = expm(logm(G)/lag)"
   ]
  },
  {
   "cell_type": "code",
   "execution_count": 8,
   "id": "c60f425d-fc72-415d-ba0a-e24be8dca38d",
   "metadata": {},
   "outputs": [],
   "source": [
    "\n",
    "# calculating the residual as forcing term \n",
    "x_0        = np.squeeze([rmm1[:-1],rmm2[:-1]])\n",
    "x_tau      = np.squeeze([rmm1[1:],rmm2[1:]])\n",
    "G_ave      = G_record.mean(axis=2) \n",
    "x_tau_hat  = G_ave.dot(x_0)\n",
    "residual   = (x_tau_hat-x_tau)\n",
    "xi = yi    = np.arange(-2,2.01,0.01)\n",
    "xi,yi      = np.meshgrid(xi,yi)\n",
    "\n",
    "\n",
    "\n",
    "# # calculate residual forcing (one can also use FDT)\n",
    "residual_grid_rmm1 = np.zeros((401,401))\n",
    "residual_grid_rmm2 = np.zeros((401,401))\n",
    "\n",
    "for i in np.arange(0,401,1):\n",
    "    for j in np.arange(0,401,1):\n",
    "        # aggregrating the nearest data\n",
    "        distance  = (rmm1[1:]-(i-200)/100)**2+(rmm2[1:]-(j-200)/100)**2  \n",
    "        threshold = np.percentile(distance,3)\n",
    "        posi      = np.squeeze(np.array(np.where(distance<threshold)))\n",
    "        residual_grid_rmm1[j,i] = np.std(residual[0,posi])\n",
    "        residual_grid_rmm2[j,i] = np.std(residual[1,posi])"
   ]
  }
 ],
 "metadata": {
  "kernelspec": {
   "display_name": "Python 3 (ipykernel)",
   "language": "python",
   "name": "python3"
  },
  "language_info": {
   "codemirror_mode": {
    "name": "ipython",
    "version": 3
   },
   "file_extension": ".py",
   "mimetype": "text/x-python",
   "name": "python",
   "nbconvert_exporter": "python",
   "pygments_lexer": "ipython3",
   "version": "3.9.18"
  }
 },
 "nbformat": 4,
 "nbformat_minor": 5
}
